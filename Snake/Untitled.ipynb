{
 "cells": [
  {
   "cell_type": "code",
   "execution_count": 1,
   "metadata": {
    "collapsed": true
   },
   "outputs": [],
   "source": [
    "import random\n",
    "from numpy import array, random"
   ]
  },
  {
   "cell_type": "code",
   "execution_count": 3,
   "metadata": {},
   "outputs": [],
   "source": [
    "class NeuralNet:\n",
    "    def __init__(self, n_in, n_out, weights=None):\n",
    "        if(weights is None):\n",
    "            self.weights = np.random.randint(0,1,size=(n_in,n_out))\n",
    "\n",
    "        else:\n",
    "            self.weights = weights\n",
    "\n",
    "    def getOutput(self, input):\n",
    "        output = dot(input, weights)\n",
    "        x = max(output[0])\n",
    "        y = 0\n",
    "        for i in range(len(output[0])):\n",
    "            if x == output[0][i]:\n",
    "                y = i\n",
    "\n",
    "        return y"
   ]
  },
  {
   "cell_type": "code",
   "execution_count": 5,
   "metadata": {
    "collapsed": true
   },
   "outputs": [],
   "source": [
    "class Individual:\n",
    "    def __init__(self, chromosome):\n",
    "        self.chromosome = chromosome\n",
    "\n",
    "    def crossover(self, other):\n",
    "        raise NotImplementedError\n",
    "\n",
    "    def mutate(self):\n",
    "        raise NotImplementedError"
   ]
  },
  {
   "cell_type": "code",
   "execution_count": 6,
   "metadata": {
    "collapsed": true
   },
   "outputs": [],
   "source": [
    "class Individual_snake(Individual):\n",
    "\n",
    "    def __init__(self, chromosome):\n",
    "        self.chromosome = chromosome\n",
    "        self.fitness = -1\n",
    "    \n",
    "    def crossover_onepoint(self, other):\n",
    "        c = random.randrange(len(self.chromosome))\n",
    "        ind1 = Individual_snake(self.chromosome[:c] + other.chromosome[c:])\n",
    "        ind2 = Individual_snake(other.chromosome[:c] + self.chromosome[c:])\n",
    "        \n",
    "        return [ind1,ind2]\n",
    "    \n",
    "    def mutate_random(self):\n",
    "        #\"Flip random quantity of bits of the chromosome\"\n",
    "        mutated_ind = Individual_snake(self.chromosome[:])\n",
    "        n = random.randrange(len(mutated_ind.chromosome))\n",
    "        for _ in range(n):\n",
    "            x = random.randrange(len(mutated_ind.chromosome))\n",
    "            if mutated_ind.chromosome[x] == 1:\n",
    "            \tmutated_ind.chromosome[x] = 0\n",
    "            else:\n",
    "            \tmutated_ind.chromosome[x] = 1 \n",
    "        \n",
    "        return mutated_ind"
   ]
  },
  {
   "cell_type": "code",
   "execution_count": null,
   "metadata": {
    "collapsed": true
   },
   "outputs": [],
   "source": []
  }
 ],
 "metadata": {
  "kernelspec": {
   "display_name": "Python 3",
   "language": "python",
   "name": "python3"
  },
  "language_info": {
   "codemirror_mode": {
    "name": "ipython",
    "version": 3
   },
   "file_extension": ".py",
   "mimetype": "text/x-python",
   "name": "python",
   "nbconvert_exporter": "python",
   "pygments_lexer": "ipython3",
   "version": "3.6.3"
  }
 },
 "nbformat": 4,
 "nbformat_minor": 2
}
